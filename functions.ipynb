{
 "cells": [
  {
   "cell_type": "code",
   "execution_count": 3,
   "metadata": {},
   "outputs": [
    {
     "name": "stdout",
     "output_type": "stream",
     "text": [
      "Radian values : \n",
      " [0, 1.5707963267948966, 1.0471975511965976, 3.141592653589793]\n",
      "\n",
      "Degree values : \n",
      " [  0.  90.  60. 180.]\n"
     ]
    }
   ],
   "source": [
    "# degree() function\n",
    "import numpy as np\n",
    "import math\n",
    "nparray = [0,math.pi/2,np.pi/3,np.pi]\n",
    "print (\"Radian values : \\n\", nparray) \n",
    "DegreeValues = np.degrees(nparray) \n",
    "print (\"\\nDegree values : \\n\", DegreeValues) "
   ]
  },
  {
   "cell_type": "code",
   "execution_count": 7,
   "metadata": {},
   "outputs": [
    {
     "name": "stdout",
     "output_type": "stream",
     "text": [
      "Input array : \n",
      " [0.2, 1.9, 5.5, 1.5, 0.5, 10.2]\n",
      "\n",
      "Rounded values : \n",
      " [ 0.  2.  6.  2.  0. 10.]\n"
     ]
    }
   ],
   "source": [
    "\n",
    "# round_() function\n",
    "\n",
    " \n",
    "in_array = [.2, 1.9, 5.5, 1.5, .5, 10.2]\n",
    "print (\"Input array : \\n\", in_array)\n",
    " \n",
    "round_off_values = np.round_(in_array)\n",
    "print (\"\\nRounded values : \\n\", round_off_values)"
   ]
  },
  {
   "cell_type": "code",
   "execution_count": 9,
   "metadata": {},
   "outputs": [
    {
     "name": "stdout",
     "output_type": "stream",
     "text": [
      "arr1      :  [2, 33, 1, 27, 25]\n",
      "arr2      :  [3, 3, 2, 9, 5]\n",
      "\n",
      "Output array : \n",
      " [ 0.66666667 11.          0.5         3.          5.        ]\n"
     ]
    }
   ],
   "source": [
    "# divide() function\n",
    "import numpy as np\n",
    " \n",
    "\n",
    "arr1 = [2, 33, 1, 27, 25]\n",
    "arr2 = [3, 3, 2, 9, 5]\n",
    "print (\"arr1      : \", arr1)\n",
    "print (\"arr2      : \", arr2)\n",
    " \n",
    "\n",
    "out = np.divide(arr1, arr2)\n",
    "print (\"\\nOutput array : \\n\", out)\n"
   ]
  },
  {
   "cell_type": "code",
   "execution_count": 10,
   "metadata": {},
   "outputs": [
    {
     "name": "stdout",
     "output_type": "stream",
     "text": [
      "Input  number1 :  100\n",
      "Input  number2 :  218\n",
      "maximum of 100 and 218 :  218\n"
     ]
    }
   ],
   "source": [
    "# maximum() function\n",
    "import numpy as np \n",
    "num1 = 100\n",
    "num2 = 218\n",
    "  \n",
    "print (\"Input  number1 : \", num1) \n",
    "print (\"Input  number2 : \", num2)  \n",
    "    \n",
    "out = np.maximum(num1, num2)  \n",
    "print (\"maximum of 100 and 218 : \", out)  \n"
   ]
  },
  {
   "cell_type": "code",
   "execution_count": 12,
   "metadata": {},
   "outputs": [
    {
     "name": "stdout",
     "output_type": "stream",
     "text": [
      "Input  number :  103\n",
      "negative of input number :  -103\n"
     ]
    }
   ],
   "source": [
    "# negative() function\n",
    "import numpy as np \n",
    "num = 103\n",
    "  \n",
    "print (\"Input  number : \", num) \n",
    "    \n",
    "out = np.negative(num)  \n",
    "print (\"negative of input number : \", out)  "
   ]
  },
  {
   "cell_type": "code",
   "execution_count": null,
   "metadata": {},
   "outputs": [],
   "source": [
    "# power() function\n",
    "import numpy as np \n",
    "  \n",
    "arr1 = [2, 2, 2, 2, 2] \n",
    "arr2 = [2, 3, 4, 5, 6] \n",
    "print (\"arr1         : \", arr1) \n",
    "print (\"arr1         : \", arr2) \n",
    " \n",
    "out = np.power(arr1, arr2) \n",
    "print (\"\\nOutput array : \", out) "
   ]
  },
  {
   "cell_type": "code",
   "execution_count": 15,
   "metadata": {},
   "outputs": [
    {
     "name": "stdout",
     "output_type": "stream",
     "text": [
      "Square Value of arr1 : \n",
      " [  1  25 144  36]\n",
      "\n",
      "Square Value of arr2 :  [3025  676]\n"
     ]
    }
   ],
   "source": [
    "# square () function \n",
    "  \n",
    "import numpy as np \n",
    "  \n",
    "arr1 = [1, -5, 12, -6] \n",
    "print (\"Square Value of arr1 : \\n\", np.square(arr1)) \n",
    "  \n",
    "arr2 = [55 ,-26] \n",
    "print (\"\\nSquare Value of arr2 : \", np.square(arr2)) \n"
   ]
  },
  {
   "cell_type": "code",
   "execution_count": 20,
   "metadata": {},
   "outputs": [
    {
     "name": "stdout",
     "output_type": "stream",
     "text": [
      "2\n",
      "(3, 3)\n",
      "9\n"
     ]
    }
   ],
   "source": [
    "# ndim()\n",
    "# shape()\n",
    "# size ()\n",
    "import numpy as np\n",
    "\n",
    "i = np.array([[1,2,3], [4,5,6], [7,8,9]]) \n",
    "print(i.ndim) # Prints 2\n",
    "print(i.shape) # Prints (3L, 3L)\n",
    "print(i.size) # Prints 9"
   ]
  },
  {
   "cell_type": "code",
   "execution_count": 24,
   "metadata": {},
   "outputs": [
    {
     "name": "stdout",
     "output_type": "stream",
     "text": [
      "[1 2 3 4 5]\n",
      "3.0\n",
      "15\n",
      "[ 0.84147098  0.90929743  0.14112001 -0.7568025  -0.95892427]\n"
     ]
    }
   ],
   "source": [
    "# mean()\n",
    "# sum()\n",
    "# sin()\n",
    "import numpy as np\n",
    "\n",
    "x = np.array([1,2,3,4,5])\n",
    "print(x)\n",
    "avg = x.mean()\n",
    "print(avg)\n",
    "sum = x.sum()\n",
    "print(sum)\n",
    "sx = np.sin(x)\n",
    "print(sx)"
   ]
  },
  {
   "cell_type": "code",
   "execution_count": 33,
   "metadata": {},
   "outputs": [
    {
     "name": "stdout",
     "output_type": "stream",
     "text": [
      "3\n"
     ]
    }
   ],
   "source": [
    "# random.randint()\n",
    "from numpy import random\n",
    "\n",
    "x = random.randint(20)\n",
    "\n",
    "print(x)\n"
   ]
  },
  {
   "cell_type": "code",
   "execution_count": 35,
   "metadata": {},
   "outputs": [
    {
     "name": "stdout",
     "output_type": "stream",
     "text": [
      "[ 5  7  9 11]\n"
     ]
    }
   ],
   "source": [
    "# add()\n",
    "import numpy as np\n",
    "\n",
    "a = [1, 2, 3, 4]\n",
    "b = [4, 5, 6, 7]\n",
    "c = np.add(a, b)\n",
    "\n",
    "print(c)"
   ]
  },
  {
   "cell_type": "code",
   "execution_count": 36,
   "metadata": {},
   "outputs": [
    {
     "name": "stdout",
     "output_type": "stream",
     "text": [
      "[  5  10 -20]\n"
     ]
    }
   ],
   "source": [
    "#discrete difference diff() : subtracting two successive elements\n",
    "import numpy as np\n",
    "\n",
    "arr = np.array([10, 15, 25, 5])\n",
    "\n",
    "newarr = np.diff(arr)\n",
    "\n",
    "print(newarr)"
   ]
  },
  {
   "cell_type": "code",
   "execution_count": 37,
   "metadata": {},
   "outputs": [
    {
     "name": "stdout",
     "output_type": "stream",
     "text": [
      "24\n"
     ]
    }
   ],
   "source": [
    "# prod()\n",
    "import numpy as np\n",
    "\n",
    "arr = np.array([1, 2, 3, 4])\n",
    "\n",
    "x = np.prod(arr)\n",
    "\n",
    "print(x)\n"
   ]
  },
  {
   "cell_type": "code",
   "execution_count": 38,
   "metadata": {},
   "outputs": [
    {
     "name": "stdout",
     "output_type": "stream",
     "text": [
      "[   5   30  210 1680]\n"
     ]
    }
   ],
   "source": [
    "# Cummulative product cumprod() : taking the product partially.\n",
    "import numpy as np\n",
    "\n",
    "arr = np.array([5, 6, 7, 8])\n",
    "\n",
    "newarr = np.cumprod(arr)\n",
    "\n",
    "print(newarr)"
   ]
  },
  {
   "cell_type": "code",
   "execution_count": 39,
   "metadata": {},
   "outputs": [
    {
     "name": "stdout",
     "output_type": "stream",
     "text": [
      "[2 4 6]\n",
      "12\n"
     ]
    }
   ],
   "source": [
    "#add()\n",
    "#sum()\n",
    "import numpy as np\n",
    "\n",
    "arr1 = np.array([1, 2, 3])\n",
    "arr2 = np.array([1, 2, 3])\n",
    "\n",
    "newarr = np.add(arr1, arr2)\n",
    "print(newarr)\n",
    "newarr = np.sum([arr1, arr2])\n",
    "print(newarr)"
   ]
  },
  {
   "cell_type": "code",
   "execution_count": 40,
   "metadata": {},
   "outputs": [
    {
     "name": "stdout",
     "output_type": "stream",
     "text": [
      "[-10  -1   8  17  26  35]\n"
     ]
    }
   ],
   "source": [
    "#subtract()\n",
    "import numpy as np\n",
    "\n",
    "arr1 = np.array([10, 20, 30, 40, 50, 60])\n",
    "arr2 = np.array([20, 21, 22, 23, 24, 25])\n",
    "\n",
    "newarr = np.subtract(arr1, arr2)\n",
    "\n",
    "print(newarr)"
   ]
  },
  {
   "cell_type": "code",
   "execution_count": 42,
   "metadata": {},
   "outputs": [
    {
     "name": "stdout",
     "output_type": "stream",
     "text": [
      "[1 2 3 4 5 6 7]\n"
     ]
    }
   ],
   "source": [
    "#unique()\n",
    "import numpy as np\n",
    "\n",
    "arr = np.array([1, 1, 1, 2, 3, 4, 5, 5, 6, 7])\n",
    "\n",
    "x = np.unique(arr)\n",
    "\n",
    "print(x)"
   ]
  },
  {
   "cell_type": "code",
   "execution_count": 43,
   "metadata": {},
   "outputs": [
    {
     "name": "stdout",
     "output_type": "stream",
     "text": [
      "[1 2 3 4 5 6]\n"
     ]
    }
   ],
   "source": [
    "#union1d()\n",
    "import numpy as np\n",
    "\n",
    "arr1 = np.array([1, 2, 3, 4])\n",
    "arr2 = np.array([3, 4, 5, 6])\n",
    "\n",
    "newarr = np.union1d(arr1, arr2)\n",
    "\n",
    "print(newarr)"
   ]
  },
  {
   "cell_type": "code",
   "execution_count": 44,
   "metadata": {},
   "outputs": [
    {
     "name": "stdout",
     "output_type": "stream",
     "text": [
      "[3 4]\n"
     ]
    }
   ],
   "source": [
    "#intersect1d()\n",
    "import numpy as np\n",
    "\n",
    "arr1 = np.array([1, 2, 3, 4])\n",
    "arr2 = np.array([3, 4, 5, 6])\n",
    "\n",
    "newarr = np.intersect1d(arr1, arr2, assume_unique=True)\n",
    "\n",
    "print(newarr)\n"
   ]
  },
  {
   "cell_type": "code",
   "execution_count": 47,
   "metadata": {},
   "outputs": [
    {
     "data": {
      "text/plain": [
       "array([ 0.,  1.,  2.,  3.,  4.,  5.,  6.,  7.,  8.,  9., 10.])"
      ]
     },
     "execution_count": 47,
     "metadata": {},
     "output_type": "execute_result"
    }
   ],
   "source": [
    "#linspace() function returns evenly spaced numbers over a specified interval defined by the first two arguments of the function. \n",
    "#The number of samples generated is specified by the third argument num\n",
    "import numpy as np\n",
    "np.linspace(0,10,11)"
   ]
  },
  {
   "cell_type": "code",
   "execution_count": 49,
   "metadata": {},
   "outputs": [
    {
     "data": {
      "text/plain": [
       "array(['2020', '2020', '2020', '2020', '2020'], dtype='<U4')"
      ]
     },
     "execution_count": 49,
     "metadata": {},
     "output_type": "execute_result"
    }
   ],
   "source": [
    "#repeat()\n",
    "import numpy as np\n",
    "np.repeat('2020',5)"
   ]
  },
  {
   "cell_type": "code",
   "execution_count": null,
   "metadata": {},
   "outputs": [],
   "source": []
  }
 ],
 "metadata": {
  "kernelspec": {
   "display_name": "Python 3",
   "language": "python",
   "name": "python3"
  },
  "language_info": {
   "codemirror_mode": {
    "name": "ipython",
    "version": 3
   },
   "file_extension": ".py",
   "mimetype": "text/x-python",
   "name": "python",
   "nbconvert_exporter": "python",
   "pygments_lexer": "ipython3",
   "version": "3.7.6"
  }
 },
 "nbformat": 4,
 "nbformat_minor": 4
}
